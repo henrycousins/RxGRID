{
  "nbformat": 4,
  "nbformat_minor": 0,
  "metadata": {
    "colab": {
      "provenance": [],
      "collapsed_sections": []
    },
    "kernelspec": {
      "name": "python3",
      "display_name": "Python 3"
    },
    "language_info": {
      "name": "python"
    }
  },
  "cells": [
    {
      "cell_type": "markdown",
      "metadata": {
        "id": "-2q_22W5P9sY"
      },
      "source": [
        "# Load libraries"
      ]
    },
    {
      "cell_type": "code",
      "metadata": {
        "id": "O1fabK9M0xmf"
      },
      "source": [
        "import os\n",
        "import numpy as np\n",
        "import pandas as pd\n",
        "import glob as glob\n",
        "import matplotlib.pyplot as plt\n",
        "import scipy.stats\n",
        "import seaborn as sns\n",
        "from sklearn import metrics as skm\n",
        "import math\n",
        "from collections import Counter\n",
        "import networkx as nx\n",
        "from matplotlib.patches import Rectangle\n"
      ],
      "execution_count": null,
      "outputs": []
    },
    {
      "cell_type": "markdown",
      "source": [
        "# Define parameters"
      ],
      "metadata": {
        "id": "IYtl3uEXY6PS"
      }
    },
    {
      "cell_type": "code",
      "metadata": {
        "id": "vqgNK1csQ9D3"
      },
      "source": [
        "gene_percentile = 0.05  # empirical significance cutoff for gene hits\n",
        "drug_percentile = 0.01  # empirical significance cutoff for drug hits\n",
        "metric = 'ndc'          # centrality metric to apply\n",
        "required_number_of_screen_hits = 3  # number of screens in which compounds should be significant\n",
        "\n",
        "# Screen names indicate .rnk files saved at the user-supplied directory\n",
        "rnk_directory = 'rnk_folder' # directory in which screen .rnk files are stored\n",
        "screennames = ['screen1','screen2'] # list of names of .rnk files within directory\n"
      ],
      "execution_count": null,
      "outputs": []
    },
    {
      "cell_type": "code",
      "source": [
        "gene_dictionary = 'uniprotid_maps.txt'\n",
        "drug_dictionary = 'drugbank.tsv'\n",
        "miner_network = 'ChG-Miner_miner-chem-gene.tsv'"
      ],
      "metadata": {
        "id": "Q5rOY3Wipohk"
      },
      "execution_count": null,
      "outputs": []
    },
    {
      "cell_type": "markdown",
      "source": [
        "# Helper functions"
      ],
      "metadata": {
        "id": "y-bxvX2iY-IE"
      }
    },
    {
      "cell_type": "code",
      "metadata": {
        "id": "HmeCM87Ze1py"
      },
      "source": [
        "def get_screenhits(screenname, gene_percentile, verbose=False):\n",
        "    \"\"\"\n",
        "    Load rnk file\n",
        "    Return top [gene_percentile] genes from rnk file\n",
        "    \"\"\"\n",
        "    results = pd.read_csv(f'{rnk_folder}/{screenname}.rnk',sep='\\t',header=None).sort_values(by=1,ascending=False, kind='mergesort')\n",
        "\n",
        "    results = list(results[0])\n",
        "    screenhits = results[0:int(gene_percentile*len(results))]\n",
        "    if verbose:\n",
        "        print(screenname)\n",
        "        print(len(screenhits))\n",
        "        print(screenhits[0:10] + ['...'])\n",
        "    return screenhits\n",
        "\n",
        "def make_full_graph(verbose=False):\n",
        "\n",
        "    \"\"\"\n",
        "    Load MINER network of drug-chemical interactions\n",
        "    Load MINER network as Nx object, removing any requested chemicals\n",
        "    Return Nx MINER graph and its node types\n",
        "    \"\"\"\n",
        "\n",
        "    # Conversion dictionary for gene IDs\n",
        "    genemap = pd.read_csv(gene_dictionary,sep='\\t')\n",
        "\n",
        "    genemapdict = {}\n",
        "    for i in genemap.index:\n",
        "        src = genemap.From.loc[i]\n",
        "        tgt = genemap.To.loc[i]\n",
        "        genemapdict[src] = tgt\n",
        "\n",
        "    # Conversion dictionary for drug IDs\n",
        "    drugbank = pd.read_csv(drug_dictionary, sep='\\t')\n",
        "\n",
        "    drugmapdict = {}\n",
        "    for i in drugbank.index:\n",
        "        src = drugbank.drugbank_id.loc[i]\n",
        "        tgt = drugbank.name.loc[i]\n",
        "        drugmapdict[src] = tgt\n",
        "\n",
        "    # Import network\n",
        "    # drugs are given by STITCH chemical IDs and proteins are given by NCBI Entrez Gene IDs\n",
        "    miner = pd.read_csv(miner_network, sep='\\t').rename(columns={'#Drug':'drug','Gene':'gene'})\n",
        "    miner = miner.drop(index=13541)\n",
        "    # print(len(miner))\n",
        "    miner = miner[miner.drug.isin(list(drugmapdict.keys()))]\n",
        "\n",
        "    miner['genename'] = miner.gene.apply(lambda x: genemapdict[x])\n",
        "    miner['drugname'] = miner.drug.apply(lambda x: drugmapdict[x])\n",
        "    miner = miner[['genename','drugname']]\n",
        "    miner.drop_duplicates(inplace=True)\n",
        "    # print(len(miner))\n",
        "\n",
        "    # Construct Nx object\n",
        "\n",
        "    G = nx.Graph()\n",
        "\n",
        "    all_compounds = list(set(miner.drugname))\n",
        "    all_targets = list(set(miner.genename))\n",
        "    positive_nodes = all_compounds + all_targets\n",
        "\n",
        "    G.add_nodes_from(positive_nodes)\n",
        "\n",
        "    positive_edges = [tuple(miner.loc[i]) for i in miner.index]\n",
        "    positive_edges = list(filter(lambda a: a != ('genename', 'drugname'), positive_edges))\n",
        "    G.add_edges_from(positive_edges)\n",
        "\n",
        "    G_nodes = [x for x in G.nodes()]\n",
        "    for node in G_nodes:\n",
        "        if node in exclude_from_graph:\n",
        "            G.remove_node(node)\n",
        "\n",
        "    node_types = dict(list(zip(all_compounds + all_targets, \n",
        "                            [{'type':x} for x in ['compound' for x in all_compounds] + ['target' for x in all_targets]]\n",
        "                            )))\n",
        "\n",
        "    nx.set_node_attributes(G,node_types)\n",
        "\n",
        "    types = nx.get_node_attributes(G, 'type')\n",
        "\n",
        "    if verbose:\n",
        "        print('Full graph:')\n",
        "        print('Number of nodes:',G.number_of_nodes())\n",
        "        print('Number of edges:',G.number_of_edges())\n",
        "        for key, value in Counter([types[x] for x in types]).items():\n",
        "            print(f'Number of type {key}',value)\n",
        "\n",
        "    return G, types, all_targets, all_compounds\n",
        "\n",
        "\n",
        "def make_hits_subgraph(G_full, screenhits, remove_singletons=True, verbose=False):\n",
        "    \"\"\"\n",
        "    Remove nodes that are not screenhits\n",
        "    Remove compounds that have no edges\n",
        "    Return new graph\n",
        "    \"\"\"\n",
        "    G_hits = G_full.copy()\n",
        "    G_nodes = [x for x in G_full.nodes()]\n",
        "    node_types = nx.get_node_attributes(G_hits,'type')\n",
        "    for i, node in enumerate(G_nodes):\n",
        "        t = node_types[node]\n",
        "        # t = node['type']\n",
        "        if t == 'target':\n",
        "            if node not in screenhits:\n",
        "                G_hits.remove_node(node)\n",
        "    \n",
        "    if remove_singletons:\n",
        "        G_nodes = [x for x in G_hits.nodes()]\n",
        "        for i, node in enumerate(G_nodes):\n",
        "            t = node_types[node]\n",
        "            # t = node['type']\n",
        "            if t == 'compound':\n",
        "                if G_hits.degree(node) == 0:\n",
        "                    G_hits.remove_node(node)\n",
        "\n",
        "    types = nx.get_node_attributes(G_hits, 'type')\n",
        "\n",
        "    if verbose:\n",
        "        print('\\nHits subgraph:')\n",
        "        print('Number of nodes:',G_hits.number_of_nodes())\n",
        "        print('Number of edges:',G_hits.number_of_edges())\n",
        "        for key, value in Counter([types[x] for x in types]).items():\n",
        "            print(f'Number of type {key}',value)\n",
        "\n",
        "    return G_hits\n",
        "\n",
        "def compute_compound_normalized_degree_centrality(G_hits):\n",
        "    \"\"\"\n",
        "    Rank nodes by centrality\n",
        "    Consider only drugs (not genes)\n",
        "    Sort drugs by centrality score\n",
        "    Return sorted drugs and scores\n",
        "    \"\"\"\n",
        "    ranking = nx.degree_centrality(G_hits)\n",
        "    # print(ranking)\n",
        "    ranking = pd.DataFrame.from_dict(ranking, orient='index')\n",
        "    ranking = ranking.loc[ranking.index.isin(all_compounds)]\n",
        "    ranking.rename(columns={0:'score'}, inplace=True)\n",
        "    ranking.sort_index(inplace=True, ascending=False)\n",
        "    ranking.sort_values(by='score', ascending=False, inplace=True, kind='stable')\n",
        "    # print(ranking)\n",
        "    return ranking\n",
        "\n",
        "\n",
        "def compute_compound_betweenness_centrality(G_hits):\n",
        "    ranking = nx.betweenness_centrality(G_hits)\n",
        "    ranking = pd.DataFrame.from_dict(ranking, orient='index')\n",
        "    ranking = ranking.loc[ranking.index.isin(all_compounds)]\n",
        "    ranking.rename(columns={0:'score'}, inplace=True)\n",
        "    ranking.sort_values(by='score', ascending=False, inplace=True, kind='mergesort')\n",
        "    return ranking\n",
        "\n",
        "def compute_compound_eigenvector_centrality(G_hits):\n",
        "    ranking = nx.eigenvector_centrality_numpy(G_hits)\n",
        "    # ranking = nx.katz_centrality_numpy(G_hits)\n",
        "    ranking = pd.DataFrame.from_dict(ranking, orient='index')\n",
        "    ranking = ranking.loc[ranking.index.isin(all_compounds)]\n",
        "    ranking.rename(columns={0:'score'}, inplace=True)\n",
        "    ranking.sort_values(by='score', ascending=False, inplace=True, kind='mergesort')\n",
        "    return ranking\n",
        "\n",
        "def compute_compound_closeness_centrality(G_hits):\n",
        "    ranking = nx.closeness_centrality(G_hits)\n",
        "    ranking = pd.DataFrame.from_dict(ranking, orient='index')\n",
        "    ranking = ranking.loc[ranking.index.isin(all_compounds)]\n",
        "    ranking.rename(columns={0:'score'}, inplace=True)\n",
        "    ranking.sort_values(by='score', ascending=False, inplace=True, kind='mergesort')\n",
        "    return ranking\n",
        "\n",
        "exclude_from_graph = []\n"
      ],
      "execution_count": null,
      "outputs": []
    },
    {
      "cell_type": "markdown",
      "source": [
        "# Perform RxGRID using given parameters"
      ],
      "metadata": {
        "id": "a3qnTvaoZGPy"
      }
    },
    {
      "cell_type": "code",
      "metadata": {
        "id": "1CB_dJxffc9j"
      },
      "source": [
        "G_full, types, all_targets, all_compounds = make_full_graph()\n",
        "\n",
        "graph_stats = pd.DataFrame()\n",
        "\n",
        "drug_dict = {}\n",
        "drug_dict_info = {}\n",
        "drug_screen_hits = pd.DataFrame()\n",
        "\n",
        "for screenname in screennames:\n",
        "\n",
        "    screenhits = get_screenhits(screenname, gene_percentile, verbose=True)\n",
        "    G_hits = make_hits_subgraph(G_full, screenhits, verbose=True, remove_singletons=True)\n",
        "\n",
        "    # calculate descriptive statistics\n",
        "    num_genes = len([x for x in G_hits.nodes if x in all_targets])\n",
        "    num_drugs = len([x for x in G_hits.nodes if x in all_compounds])\n",
        "    num_edges = len([x for x in G_hits.edges])\n",
        "    mean_degree = np.mean([G_hits.degree(x) for x in G_hits.nodes])\n",
        "    mean_degree_genes = np.mean([G_hits.degree(x) for x in G_hits.nodes if x in all_targets])\n",
        "    mean_degree_drugs = np.mean([G_hits.degree(x) for x in G_hits.nodes if x in all_compounds])\n",
        "    density = num_edges / (num_genes * num_drugs)\n",
        "    single_gene_frac = len([x for x in G_hits.nodes if (x in all_targets)&(G_hits.degree(x)==0)]) / num_genes\n",
        "\n",
        "    graph_stats.loc[screenname,'num_genes'] = num_genes\n",
        "    graph_stats.loc[screenname,'num_drugs'] = num_drugs\n",
        "    graph_stats.loc[screenname,'num_edges'] = num_edges\n",
        "    graph_stats.loc[screenname,'mean_degree'] = mean_degree\n",
        "    graph_stats.loc[screenname,'mean_degree_genes'] = mean_degree_genes\n",
        "    graph_stats.loc[screenname,'mean_degree_drugs'] = mean_degree_drugs\n",
        "    graph_stats.loc[screenname,'density'] = density\n",
        "    graph_stats.loc[screenname,'single_gene_frac'] = single_gene_frac\n",
        "\n",
        "    if metric == 'ndc':\n",
        "        ranking = compute_compound_normalized_degree_centrality(G_hits)\n",
        "    if metric == 'betweenness':\n",
        "        ranking = compute_compound_betweenness_centrality(G_hits)\n",
        "    if metric == 'eigenvector':\n",
        "        ranking = compute_compound_eigenvector_centrality(G_hits)\n",
        "    if metric == 'closeness':\n",
        "        ranking = compute_compound_closeness_centrality(G_hits)\n",
        "\n",
        "    betweenness_ranking = compute_compound_betweenness_centrality(G_hits)\n",
        "    closeness_ranking = compute_compound_closeness_centrality(G_hits)\n",
        "    ndc_ranking = compute_compound_normalized_degree_centrality(G_hits)\n",
        "\n",
        "    agg_ranking = pd.merge(ndc_ranking, betweenness_ranking, left_index=True, right_index=True,\n",
        "                           suffixes=('_ndc','_btw'))\n",
        "\n",
        "    agg_ranking.sort_index(ascending=True, inplace=True)\n",
        "    agg_ranking.sort_values(by='score_btw', ascending=False, inplace=True, kind='mergesort')\n",
        "    agg_ranking.sort_values(by='score_ndc', ascending=False, inplace=True, kind='mergesort')\n",
        "    top_drugs = list(agg_ranking.iloc[0:int(np.ceil(4927*drug_percentile))].index)\n",
        "\n",
        "    drug_dict[screenname] = top_drugs\n",
        "\n",
        "    drug_dict_info[screenname] = ranking\n",
        "\n"
      ],
      "execution_count": null,
      "outputs": []
    },
    {
      "cell_type": "code",
      "source": [
        "drug_hits_combined = []\n",
        "for screenname in drug_dict.keys():\n",
        "    drug_hits_combined += drug_dict[screenname]\n",
        "\n",
        "drug_hits_count = Counter(drug_hits_combined)\n",
        "drug_hits_sorted = Counter(drug_hits_combined).most_common()\n",
        "\n",
        "collective_hits = []\n",
        "for drug in drug_hits_count.keys():\n",
        "    if drug_hits_count[drug] >= required_number_of_screen_hits:\n",
        "        collective_hits.append(drug)\n",
        "\n",
        "print(len(collective_hits))\n",
        "print(collective_hits)\n"
      ],
      "metadata": {
        "id": "mUr-juDlCRDF"
      },
      "execution_count": null,
      "outputs": []
    },
    {
      "cell_type": "code",
      "source": [
        "for label in graph_stats.columns:\n",
        "    print(label+':')\n",
        "    data = graph_stats[label]\n",
        "    print(f'{np.mean(data)} ({np.std(data)})\\n')\n"
      ],
      "metadata": {
        "id": "uv71gqHGCQ_U"
      },
      "execution_count": null,
      "outputs": []
    },
    {
      "cell_type": "code",
      "source": [
        "exclude_from_downstream = []\n",
        "\n",
        "final_drugs = [x for x in collective_hits if x not in exclude_from_downstream]"
      ],
      "metadata": {
        "id": "1Qb5bVjwRU8f"
      },
      "execution_count": null,
      "outputs": []
    },
    {
      "cell_type": "code",
      "source": [
        "print(final_drugs)"
      ],
      "metadata": {
        "id": "zC4C9PA8XAWh"
      },
      "execution_count": null,
      "outputs": []
    },
    {
      "cell_type": "code",
      "source": [],
      "metadata": {
        "id": "hUd8thMGHR5E"
      },
      "execution_count": null,
      "outputs": []
    }
  ]
}